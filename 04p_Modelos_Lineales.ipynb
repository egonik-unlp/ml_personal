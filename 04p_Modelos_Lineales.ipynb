{
 "cells": [
  {
   "cell_type": "code",
   "execution_count": 174,
   "metadata": {
    "id": "SMSgrL-x2Cyd"
   },
   "outputs": [],
   "source": [
    "import numpy as np\n",
    "import matplotlib.pyplot as plt\n",
    "np.random.seed(42)"
   ]
  },
  {
   "cell_type": "markdown",
   "metadata": {
    "id": "BH-kwbHG2MWX"
   },
   "source": [
    "Supongamos que nos dan esta serie de puntos"
   ]
  },
  {
   "cell_type": "code",
   "execution_count": 175,
   "metadata": {
    "id": "QbYAV1Eo2J6F"
   },
   "outputs": [],
   "source": [
    "N_SAMPLES = 20\n",
    "x = np.linspace(0,1,num=N_SAMPLES).reshape(-1,1)\n",
    "t =  4 * x+ np.sin(x*6)+ 0.5*np.random.randn(N_SAMPLES,1)"
   ]
  },
  {
   "cell_type": "code",
   "execution_count": 176,
   "metadata": {},
   "outputs": [
    {
     "data": {
      "text/plain": [
       "(array([[0.        ],\n",
       "        [0.05263158],\n",
       "        [0.10526316],\n",
       "        [0.15789474],\n",
       "        [0.21052632],\n",
       "        [0.26315789],\n",
       "        [0.31578947],\n",
       "        [0.36842105],\n",
       "        [0.42105263],\n",
       "        [0.47368421],\n",
       "        [0.52631579],\n",
       "        [0.57894737],\n",
       "        [0.63157895],\n",
       "        [0.68421053],\n",
       "        [0.73684211],\n",
       "        [0.78947368],\n",
       "        [0.84210526],\n",
       "        [0.89473684],\n",
       "        [0.94736842],\n",
       "        [1.        ]]),\n",
       " array([[0.24835708],\n",
       "        [0.45196117],\n",
       "        [1.33531676],\n",
       "        [2.20497582],\n",
       "        [1.67807991],\n",
       "        [1.93552988],\n",
       "        [3.0007528 ],\n",
       "        [2.65965855],\n",
       "        [2.02665797],\n",
       "        [2.46104732],\n",
       "        [1.85725295],\n",
       "        [1.75690358],\n",
       "        [2.04379875],\n",
       "        [0.95891083],\n",
       "        [1.12704862],\n",
       "        [1.87704993],\n",
       "        [1.91933176],\n",
       "        [2.94365223],\n",
       "        [2.77166562],\n",
       "        [3.01443265]]))"
      ]
     },
     "execution_count": 176,
     "metadata": {},
     "output_type": "execute_result"
    }
   ],
   "source": [
    "x,t"
   ]
  },
  {
   "cell_type": "code",
   "execution_count": 177,
   "metadata": {
    "id": "lE05zyC72oz2"
   },
   "outputs": [
    {
     "data": {
      "image/png": "[encoded data removed]",
      "text/plain": [
       "<Figure size 432x288 with 1 Axes>"
      ]
     },
     "metadata": {
      "needs_background": "light"
     },
     "output_type": "display_data"
    }
   ],
   "source": [
    "plt.scatter(x,t)\n",
    "plt.xlabel('x')\n",
    "plt.ylabel('t')\n",
    "plt.show()"
   ]
  },
  {
   "cell_type": "markdown",
   "metadata": {
    "id": "BfssD7wa-Iah"
   },
   "source": [
    "Por supuesto, antes de seguir dividimos en entrenamiento y testeo"
   ]
  },
  {
   "cell_type": "code",
   "execution_count": 178,
   "metadata": {
    "id": "zx-k8fMI2rDE"
   },
   "outputs": [],
   "source": [
    "from sklearn.model_selection import train_test_split\n",
    "\n",
    "x_train, x_test, t_train, t_test = train_test_split(x, t, random_state=42)\n"
   ]
  },
  {
   "cell_type": "code",
   "execution_count": 179,
   "metadata": {
    "id": "F76kTRCb-PTZ"
   },
   "outputs": [
    {
     "data": {
      "image/png": "[encoded data removed]",
      "text/plain": [
       "<Figure size 432x288 with 1 Axes>"
      ]
     },
     "metadata": {
      "needs_background": "light"
     },
     "output_type": "display_data"
    }
   ],
   "source": [
    "plt.scatter(x_train,t_train, c='red', label='train')\n",
    "plt.scatter(x_test,t_test, c='blue', label='test')\n",
    "plt.legend()\n",
    "plt.xlabel('x')\n",
    "plt.ylabel('y')\n",
    "plt.show()"
   ]
  },
  {
   "cell_type": "markdown",
   "metadata": {
    "id": "-8ooxY9C-WL9"
   },
   "source": [
    "Como vimos, la idea de Regresion Lineal es modelar\n",
    "\n",
    "$$y(x,w)=w_{0}+w_{1}x$$\n",
    "\n",
    "De manera tal que \n",
    "\n",
    "$$t\\sim \\mathcal{N}(y(x,w),\\sigma^{2})$$\n",
    "\n",
    "Con alguna incerteza que no nos importa demasiado hoy.\n",
    "\n",
    "Aca tenemos la gran ventaja de que sabemos la verdadera funcion que sigue el target. En la vida real, casi nunca sabemos la verdadera funcion."
   ]
  },
  {
   "cell_type": "code",
   "execution_count": 180,
   "metadata": {
    "id": "SBbJ5OY--TLc"
   },
   "outputs": [],
   "source": [
    "def y_true(x):\n",
    "  return  4 * x+ np.sin(x*6)"
   ]
  },
  {
   "cell_type": "code",
   "execution_count": 181,
   "metadata": {
    "id": "dfGqy6Dw_FF2"
   },
   "outputs": [
    {
     "data": {
      "image/png": "[encoded data removed]",
      "text/plain": [
       "<Figure size 432x288 with 1 Axes>"
      ]
     },
     "metadata": {
      "needs_background": "light"
     },
     "output_type": "display_data"
    }
   ],
   "source": [
    "xvals=np.linspace(0,1,num=50).reshape(-1,1)\n",
    "plt.scatter(x_train,t_train, c='red', label='train')\n",
    "plt.plot(xvals,y_true(xvals),color='black',label='Funcion verdadera')\n",
    "plt.legend()\n",
    "plt.xlabel('x')\n",
    "plt.ylabel('t')\n",
    "plt.show()"
   ]
  },
  {
   "cell_type": "markdown",
   "metadata": {
    "id": "EaVqqAkAABwt"
   },
   "source": [
    "Veamos los shapes que tenemos"
   ]
  },
  {
   "cell_type": "code",
   "execution_count": 182,
   "metadata": {
    "id": "CFY_JHg7AGcG"
   },
   "outputs": [
    {
     "name": "stdout",
     "output_type": "stream",
     "text": [
      "(15, 1) (15, 1)\n"
     ]
    }
   ],
   "source": [
    "print(x_train.shape,t_train.shape)"
   ]
  },
  {
   "cell_type": "markdown",
   "metadata": {
    "id": "NdITQZ0l2KaA"
   },
   "source": [
    "# Regresion Lineal a mano"
   ]
  },
  {
   "cell_type": "markdown",
   "metadata": {
    "id": "1S7XZwyqABo1"
   },
   "source": [
    "Si queremos obtener los estimador de maxima verosimilitud de los pesos $w_{0}$, $w_{1}$, tenemos que resolver las ecuaciones normales\n",
    "\n",
    "$$w_{ML}=(\\Phi^{T}\\Phi)^{-1}\\Phi^{T}t$$\n",
    "\n",
    "Donde $w_{ML}=(w_{0,ML},w_{1,ML})^{T}$, $t$ el vector de target y $\\Phi$ es la matriz de diseño. En cada columna, tiene una de las funciones de base. En este caso, 1 y x. En cada fila, tiene una medicion"
   ]
  },
  {
   "cell_type": "markdown",
   "metadata": {
    "id": "s4-fwAn9Bzwn"
   },
   "source": [
    "Si tenemos M funciones de base y N mediciones, \n",
    "\n",
    "$w_{ML}$ es una matriz de N\n",
    "\n",
    "$\\Phi$ es una matriz de M x N \n",
    "\n",
    "$t$ es una matriz de N"
   ]
  },
  {
   "cell_type": "code",
   "execution_count": 183,
   "metadata": {
    "id": "b1odr2AfBIWA"
   },
   "outputs": [],
   "source": [
    "Phi_train=np.vstack([np.ones(len(x_train)),x_train[:,0]]).T # agrupo 1s y xs para cada medicion"
   ]
  },
  {
   "cell_type": "code",
   "execution_count": 184,
   "metadata": {},
   "outputs": [
    {
     "data": {
      "text/plain": [
       "(15,)"
      ]
     },
     "execution_count": 184,
     "metadata": {},
     "output_type": "execute_result"
    }
   ],
   "source": [
    "x_train[:,0].shape"
   ]
  },
  {
   "cell_type": "code",
   "execution_count": 185,
   "metadata": {},
   "outputs": [
    {
     "data": {
      "text/plain": [
       "array([[1.        , 0.26315789],\n",
       "       [1.        , 0.57894737],\n",
       "       [1.        , 0.15789474],\n",
       "       [1.        , 0.94736842],\n",
       "       [1.        , 0.84210526],\n",
       "       [1.        , 0.68421053],\n",
       "       [1.        , 0.10526316],\n",
       "       [1.        , 0.47368421],\n",
       "       [1.        , 1.        ],\n",
       "       [1.        , 0.21052632],\n",
       "       [1.        , 0.63157895],\n",
       "       [1.        , 0.36842105],\n",
       "       [1.        , 0.52631579],\n",
       "       [1.        , 0.73684211],\n",
       "       [1.        , 0.31578947]])"
      ]
     },
     "execution_count": 185,
     "metadata": {},
     "output_type": "execute_result"
    }
   ],
   "source": [
    "Phi_train"
   ]
  },
  {
   "cell_type": "markdown",
   "metadata": {
    "id": "_7hurekKABsf"
   },
   "source": [
    "Que shape tiene que tener?"
   ]
  },
  {
   "cell_type": "code",
   "execution_count": 186,
   "metadata": {
    "id": "lnxfdtmU_M1Q"
   },
   "outputs": [
    {
     "data": {
      "text/plain": [
       "(15, 2)"
      ]
     },
     "execution_count": 186,
     "metadata": {},
     "output_type": "execute_result"
    }
   ],
   "source": [
    "Phi_train.shape"
   ]
  },
  {
   "cell_type": "markdown",
   "metadata": {
    "id": "u7YGn2QRBjTP"
   },
   "source": [
    "Las ecuaciones normales tienen una inversa ahi metida. Eso no es numericamente muy deseable. Conviene resolver la ecuacion\n",
    "\n",
    "$$(\\Phi^{T}\\Phi)w_{ML}=\\Phi^{T}t$$\n",
    "\n",
    "y utilizar `np.linalg.solve(A,b)` que obtiene el vector $X$ solucion de la ecuacion\n",
    "\n",
    "$$Ax=b$$\n",
    "\n"
   ]
  },
  {
   "cell_type": "code",
   "execution_count": 187,
   "metadata": {
    "id": "keqZzu8MBgcu"
   },
   "outputs": [],
   "source": [
    "A = Phi_train.T @ Phi_train\n",
    "b = Phi_train.T @ t_train\n",
    "\n",
    "wML= np.linalg.solve(A,b)"
   ]
  },
  {
   "cell_type": "markdown",
   "metadata": {
    "id": "GdteT-rrCzaW"
   },
   "source": [
    "Veamos la solucion"
   ]
  },
  {
   "cell_type": "code",
   "execution_count": 188,
   "metadata": {
    "id": "Dnjf3caDCywN"
   },
   "outputs": [
    {
     "data": {
      "text/plain": [
       "array([[1.85999881],\n",
       "       [0.36019965]])"
      ]
     },
     "execution_count": 188,
     "metadata": {},
     "output_type": "execute_result"
    }
   ],
   "source": [
    "wML"
   ]
  },
  {
   "cell_type": "markdown",
   "metadata": {
    "id": "r5y_KtWHC5Ut"
   },
   "source": [
    "Podemos graficar esta solucion facilmente"
   ]
  },
  {
   "cell_type": "code",
   "execution_count": 189,
   "metadata": {
    "id": "d_lC4-t9C1YF"
   },
   "outputs": [],
   "source": [
    "def y_ML(x,wML):\n",
    "  return wML[0]+wML[1]*x"
   ]
  },
  {
   "cell_type": "code",
   "execution_count": 190,
   "metadata": {
    "id": "DVcXsY8WDCmH"
   },
   "outputs": [
    {
     "data": {
      "image/png": "[encoded data removed]",
      "text/plain": [
       "<Figure size 432x288 with 1 Axes>"
      ]
     },
     "metadata": {
      "needs_background": "light"
     },
     "output_type": "display_data"
    }
   ],
   "source": [
    "xvals=np.linspace(0,1,num=50).reshape(-1,1)\n",
    "plt.scatter(x_train,t_train, c='red', label='train')\n",
    "plt.plot(xvals,y_true(xvals),color='black',label='Funcion verdadera')\n",
    "plt.plot(xvals,y_ML(xvals,wML),color='black',linestyle='dotted',label='Maxima verosimilitud')\n",
    "plt.legend()\n",
    "plt.xlabel('x')\n",
    "plt.ylabel('t')\n",
    "plt.show()"
   ]
  },
  {
   "cell_type": "markdown",
   "metadata": {
    "id": "rcpxzb6vDYG2"
   },
   "source": [
    "Obviamente, no funciona muy bien..."
   ]
  },
  {
   "cell_type": "markdown",
   "metadata": {
    "id": "23JV66pJDkqG"
   },
   "source": [
    "## Ejercicio"
   ]
  },
  {
   "cell_type": "markdown",
   "metadata": {
    "id": "xe40pMUFDm2t"
   },
   "source": [
    "Resuelvan las ecuaciones normales, pero ahora modelando la funcion como\n",
    "\n",
    "$$y(x,w)=w_{0}+\\sum_{i=1}^{5}w_{i}x^{i}$$"
   ]
  },
  {
   "cell_type": "code",
   "execution_count": 191,
   "metadata": {},
   "outputs": [
    {
     "data": {
      "text/plain": [
       "(array([[1.85999881],\n",
       "        [0.36019965]]),\n",
       " array([[0.        ],\n",
       "        [0.05263158],\n",
       "        [0.10526316],\n",
       "        [0.15789474],\n",
       "        [0.21052632],\n",
       "        [0.26315789],\n",
       "        [0.31578947],\n",
       "        [0.36842105],\n",
       "        [0.42105263],\n",
       "        [0.47368421],\n",
       "        [0.52631579],\n",
       "        [0.57894737],\n",
       "        [0.63157895],\n",
       "        [0.68421053],\n",
       "        [0.73684211],\n",
       "        [0.78947368],\n",
       "        [0.84210526],\n",
       "        [0.89473684],\n",
       "        [0.94736842],\n",
       "        [1.        ]]))"
      ]
     },
     "execution_count": 191,
     "metadata": {},
     "output_type": "execute_result"
    }
   ],
   "source": [
    "\n",
    "wML,x\n",
    "\n",
    "\n"
   ]
  },
  {
   "cell_type": "code",
   "execution_count": 192,
   "metadata": {
    "id": "Oq1gZZxNf5Ew"
   },
   "outputs": [
    {
     "data": {
      "image/png": "[encoded data removed]",
      "text/plain": [
       "<Figure size 432x288 with 1 Axes>"
      ]
     },
     "metadata": {
      "needs_background": "light"
     },
     "output_type": "display_data"
    }
   ],
   "source": [
    "Phi_train = np.array([np.array([val**j for val in x_train])[:,0] for j in range(6)]).T\n",
    "A = Phi_train.T @ Phi_train\n",
    "b = Phi_train.T @ t_train\n",
    "\n",
    "wML= np.linalg.solve(A,b)\n",
    "\n",
    "\n",
    "def y_ML(x,wML):\n",
    "  return [np.sum([wML[i]*xi**i for i in range(6)]) for xi in x]\n",
    "\n",
    "pru = y_ML(x_train, wML)\n",
    "\n",
    "\n",
    "\n",
    "\n",
    "xvals=np.linspace(0,1,num=50).reshape(-1,1)\n",
    "plt.scatter(x_train,t_train, c='red', label='train')\n",
    "plt.plot(xvals,y_true(xvals),color='black',label='Funcion verdadera')\n",
    "plt.plot(xvals,y_ML(xvals,wML),color='black',linestyle='dotted',label='Maxima verosimilitud')\n",
    "plt.legend()\n",
    "plt.xlabel('x')\n",
    "plt.ylabel('t')\n",
    "plt.show()\n",
    "\n"
   ]
  },
  {
   "cell_type": "code",
   "execution_count": 193,
   "metadata": {},
   "outputs": [
    {
     "data": {
      "text/plain": [
       "[2.3368348121698346,\n",
       " 1.7664169116839687,\n",
       " 1.6500194482705217,\n",
       " 2.752659712529038,\n",
       " 1.810161932290299,\n",
       " 1.2969163270614672,\n",
       " 1.5279501702680987,\n",
       " 2.41167359920533,\n",
       " 3.038920875205605,\n",
       " 1.9822852053255693,\n",
       " 1.475382784012858,\n",
       " 2.695474787022463,\n",
       " 2.102683808162851,\n",
       " 1.2825829236300095,\n",
       " 2.5947424946658693]"
      ]
     },
     "execution_count": 193,
     "metadata": {},
     "output_type": "execute_result"
    }
   ],
   "source": [
    "pru"
   ]
  },
  {
   "cell_type": "markdown",
   "metadata": {
    "id": "imP4G0KVFZok"
   },
   "source": [
    "# Hola `sklearn`!"
   ]
  },
  {
   "cell_type": "markdown",
   "metadata": {
    "id": "L7W_0apKFbno"
   },
   "source": [
    "Como ya vimos antes, `sklearn` resuelve las ecuaciones normales por nosotros utilizando `LinearRegression`"
   ]
  },
  {
   "cell_type": "code",
   "execution_count": 194,
   "metadata": {
    "id": "B40Dlvj5EX-p"
   },
   "outputs": [],
   "source": [
    "from sklearn.linear_model import LinearRegression"
   ]
  },
  {
   "cell_type": "markdown",
   "metadata": {
    "id": "f-kbz7D1Fu3t"
   },
   "source": [
    "Veamos los parametros que tenemos:"
   ]
  },
  {
   "cell_type": "code",
   "execution_count": 215,
   "metadata": {
    "id": "9EwwqsELFsXF"
   },
   "outputs": [
    {
     "ename": "SyntaxError",
     "evalue": "invalid syntax (<ipython-input-215-d134b79a8d67>, line 1)",
     "output_type": "error",
     "traceback": [
      "\u001b[0;36m  File \u001b[0;32m\"<ipython-input-215-d134b79a8d67>\"\u001b[0;36m, line \u001b[0;32m1\u001b[0m\n\u001b[0;31m    LinearRegression??;\u001b[0m\n\u001b[0m                    ^\u001b[0m\n\u001b[0;31mSyntaxError\u001b[0m\u001b[0;31m:\u001b[0m invalid syntax\n"
     ]
    }
   ],
   "source": [
    "LinearRegression??"
   ]
  },
  {
   "cell_type": "markdown",
   "metadata": {
    "id": "iV7uvWgeF3p6"
   },
   "source": [
    "La opcion con la que hay que tener mas cuidado ahora mismo en `fit_intercept`. Por defecto, esta como verdadera. "
   ]
  },
  {
   "cell_type": "code",
   "execution_count": 196,
   "metadata": {
    "id": "9-Pz8wWgFxW-"
   },
   "outputs": [
    {
     "data": {
      "text/plain": [
       "LinearRegression()"
      ]
     },
     "execution_count": 196,
     "metadata": {},
     "output_type": "execute_result"
    }
   ],
   "source": [
    "lr=LinearRegression(fit_intercept=True)\n",
    "lr.fit(x_train,t_train) #features, target"
   ]
  },
  {
   "cell_type": "markdown",
   "metadata": {
    "id": "ySRlQ5osGNC5"
   },
   "source": [
    "Podemos obtener tanto los coeficientes como el intercept"
   ]
  },
  {
   "cell_type": "code",
   "execution_count": 197,
   "metadata": {
    "id": "0dA6cQU2GHjc"
   },
   "outputs": [
    {
     "name": "stdout",
     "output_type": "stream",
     "text": [
      "[1.85999881] [[0.36019965]]\n"
     ]
    }
   ],
   "source": [
    "print(lr.intercept_,lr.coef_)"
   ]
  },
  {
   "cell_type": "markdown",
   "metadata": {
    "id": "Dt55MMJyGS71"
   },
   "source": [
    "Noten que tenemos 1 solo coeficiente. El $w_{0}$ es el intercept.\n",
    "\n",
    "Supongamos que no nos damos cuenta y le damos la matriz $\\Phi$"
   ]
  },
  {
   "cell_type": "code",
   "execution_count": 198,
   "metadata": {
    "id": "NmXi1-siGQeL"
   },
   "outputs": [
    {
     "data": {
      "text/plain": [
       "LinearRegression()"
      ]
     },
     "execution_count": 198,
     "metadata": {},
     "output_type": "execute_result"
    }
   ],
   "source": [
    "lr=LinearRegression(fit_intercept=True)\n",
    "lr.fit(Phi_train,t_train) #features, target"
   ]
  },
  {
   "cell_type": "code",
   "execution_count": 199,
   "metadata": {
    "id": "WVvr7mVTGalP"
   },
   "outputs": [
    {
     "name": "stdout",
     "output_type": "stream",
     "text": [
      "[3.07455312] [[   0.          -33.29841561  231.85595838 -584.70043884  604.71681952\n",
      "  -218.60955569]]\n"
     ]
    }
   ],
   "source": [
    "print(lr.intercept_,lr.coef_)"
   ]
  },
  {
   "cell_type": "markdown",
   "metadata": {
    "id": "RP6UPs3KGkn_"
   },
   "source": [
    "Aparece el coeficiente que deberia ser el `intercept` como cero. \n",
    "\n",
    "Hay que tener cuidado con esto, en particular cuando queremos aprovechar `sklearn` para hacer regresion polinomial"
   ]
  },
  {
   "cell_type": "code",
   "execution_count": 200,
   "metadata": {
    "id": "L8O0LfM3Gec1"
   },
   "outputs": [],
   "source": [
    "from sklearn.preprocessing import PolynomialFeatures # utilizo esto para convertir mi X es a la base que quiero"
   ]
  },
  {
   "cell_type": "code",
   "execution_count": 202,
   "metadata": {
    "id": "sUBz8Y-cHaEo"
   },
   "outputs": [
    {
     "data": {
      "text/plain": [
       "array([[1.        , 0.26315789],\n",
       "       [1.        , 0.57894737],\n",
       "       [1.        , 0.15789474],\n",
       "       [1.        , 0.94736842],\n",
       "       [1.        , 0.84210526],\n",
       "       [1.        , 0.68421053],\n",
       "       [1.        , 0.10526316],\n",
       "       [1.        , 0.47368421],\n",
       "       [1.        , 1.        ],\n",
       "       [1.        , 0.21052632],\n",
       "       [1.        , 0.63157895],\n",
       "       [1.        , 0.36842105],\n",
       "       [1.        , 0.52631579],\n",
       "       [1.        , 0.73684211],\n",
       "       [1.        , 0.31578947]])"
      ]
     },
     "execution_count": 202,
     "metadata": {},
     "output_type": "execute_result"
    }
   ],
   "source": [
    "PolynomialFeatures(degree=1).fit_transform(x_train)"
   ]
  },
  {
   "cell_type": "code",
   "execution_count": 203,
   "metadata": {
    "id": "Bu-hUwpzHhl-"
   },
   "outputs": [
    {
     "data": {
      "text/plain": [
       "array([[0.26315789],\n",
       "       [0.57894737],\n",
       "       [0.15789474],\n",
       "       [0.94736842],\n",
       "       [0.84210526],\n",
       "       [0.68421053],\n",
       "       [0.10526316],\n",
       "       [0.47368421],\n",
       "       [1.        ],\n",
       "       [0.21052632],\n",
       "       [0.63157895],\n",
       "       [0.36842105],\n",
       "       [0.52631579],\n",
       "       [0.73684211],\n",
       "       [0.31578947]])"
      ]
     },
     "execution_count": 203,
     "metadata": {},
     "output_type": "execute_result"
    }
   ],
   "source": [
    "PolynomialFeatures(degree=1,include_bias=False).fit_transform(x_train)"
   ]
  },
  {
   "cell_type": "markdown",
   "metadata": {
    "id": "Fd8Kk9mWHD8s"
   },
   "source": [
    "Tenemos dos opciones: `PolynomialFeatures` con `include_bias=True` y `LinearRegression` con `fit_intercept=False` o el opuesto "
   ]
  },
  {
   "cell_type": "markdown",
   "metadata": {
    "id": "CbXc33UWHlvj"
   },
   "source": [
    "Podemos combinar ambos utilizando el `Pipeline`"
   ]
  },
  {
   "cell_type": "code",
   "execution_count": 204,
   "metadata": {
    "id": "oVeui0jKG9Hh"
   },
   "outputs": [
    {
     "data": {
      "text/plain": [
       "\u001b[0;31mInit signature:\u001b[0m \u001b[0mPipeline\u001b[0m\u001b[0;34m(\u001b[0m\u001b[0msteps\u001b[0m\u001b[0;34m,\u001b[0m \u001b[0;34m*\u001b[0m\u001b[0;34m,\u001b[0m \u001b[0mmemory\u001b[0m\u001b[0;34m=\u001b[0m\u001b[0;32mNone\u001b[0m\u001b[0;34m,\u001b[0m \u001b[0mverbose\u001b[0m\u001b[0;34m=\u001b[0m\u001b[0;32mFalse\u001b[0m\u001b[0;34m)\u001b[0m\u001b[0;34m\u001b[0m\u001b[0;34m\u001b[0m\u001b[0m\n",
       "\u001b[0;31mDocstring:\u001b[0m     \n",
       "Pipeline of transforms with a final estimator.\n",
       "\n",
       "Sequentially apply a list of transforms and a final estimator.\n",
       "Intermediate steps of the pipeline must be 'transforms', that is, they\n",
       "must implement fit and transform methods.\n",
       "The final estimator only needs to implement fit.\n",
       "The transformers in the pipeline can be cached using ``memory`` argument.\n",
       "\n",
       "The purpose of the pipeline is to assemble several steps that can be\n",
       "cross-validated together while setting different parameters.\n",
       "For this, it enables setting parameters of the various steps using their\n",
       "names and the parameter name separated by a '__', as in the example below.\n",
       "A step's estimator may be replaced entirely by setting the parameter\n",
       "with its name to another estimator, or a transformer removed by setting\n",
       "it to 'passthrough' or ``None``.\n",
       "\n",
       "Read more in the :ref:`User Guide <pipeline>`.\n",
       "\n",
       ".. versionadded:: 0.5\n",
       "\n",
       "Parameters\n",
       "----------\n",
       "steps : list\n",
       "    List of (name, transform) tuples (implementing fit/transform) that are\n",
       "    chained, in the order in which they are chained, with the last object\n",
       "    an estimator.\n",
       "\n",
       "memory : str or object with the joblib.Memory interface, default=None\n",
       "    Used to cache the fitted transformers of the pipeline. By default,\n",
       "    no caching is performed. If a string is given, it is the path to\n",
       "    the caching directory. Enabling caching triggers a clone of\n",
       "    the transformers before fitting. Therefore, the transformer\n",
       "    instance given to the pipeline cannot be inspected\n",
       "    directly. Use the attribute ``named_steps`` or ``steps`` to\n",
       "    inspect estimators within the pipeline. Caching the\n",
       "    transformers is advantageous when fitting is time consuming.\n",
       "\n",
       "verbose : bool, default=False\n",
       "    If True, the time elapsed while fitting each step will be printed as it\n",
       "    is completed.\n",
       "\n",
       "Attributes\n",
       "----------\n",
       "named_steps : :class:`~sklearn.utils.Bunch`\n",
       "    Dictionary-like object, with the following attributes.\n",
       "    Read-only attribute to access any step parameter by user given name.\n",
       "    Keys are step names and values are steps parameters.\n",
       "\n",
       "See Also\n",
       "--------\n",
       "make_pipeline : Convenience function for simplified pipeline construction.\n",
       "\n",
       "Examples\n",
       "--------\n",
       ">>> from sklearn.svm import SVC\n",
       ">>> from sklearn.preprocessing import StandardScaler\n",
       ">>> from sklearn.datasets import make_classification\n",
       ">>> from sklearn.model_selection import train_test_split\n",
       ">>> from sklearn.pipeline import Pipeline\n",
       ">>> X, y = make_classification(random_state=0)\n",
       ">>> X_train, X_test, y_train, y_test = train_test_split(X, y,\n",
       "...                                                     random_state=0)\n",
       ">>> pipe = Pipeline([('scaler', StandardScaler()), ('svc', SVC())])\n",
       ">>> # The pipeline can be used as any other estimator\n",
       ">>> # and avoids leaking the test set into the train set\n",
       ">>> pipe.fit(X_train, y_train)\n",
       "Pipeline(steps=[('scaler', StandardScaler()), ('svc', SVC())])\n",
       ">>> pipe.score(X_test, y_test)\n",
       "0.88\n",
       "\u001b[0;31mFile:\u001b[0m           ~/anaconda3/lib/python3.8/site-packages/sklearn/pipeline.py\n",
       "\u001b[0;31mType:\u001b[0m           ABCMeta\n",
       "\u001b[0;31mSubclasses:\u001b[0m     \n"
      ]
     },
     "metadata": {},
     "output_type": "display_data"
    }
   ],
   "source": [
    "from sklearn.pipeline import Pipeline\n",
    "Pipeline?"
   ]
  },
  {
   "cell_type": "code",
   "execution_count": 205,
   "metadata": {
    "id": "Lwdnu6O-HUKD"
   },
   "outputs": [],
   "source": [
    "degree=5\n",
    "modelo=Pipeline([['poly',PolynomialFeatures(degree=degree,include_bias=True)],['regressor',LinearRegression(fit_intercept=False)]])"
   ]
  },
  {
   "cell_type": "code",
   "execution_count": 206,
   "metadata": {
    "id": "9tQUS9ZxHz3Z"
   },
   "outputs": [
    {
     "data": {
      "text/plain": [
       "Pipeline(steps=[('poly', PolynomialFeatures(degree=5)),\n",
       "                ['regressor', LinearRegression(fit_intercept=False)]])"
      ]
     },
     "execution_count": 206,
     "metadata": {},
     "output_type": "execute_result"
    }
   ],
   "source": [
    "modelo.fit(x_train,t_train)"
   ]
  },
  {
   "cell_type": "markdown",
   "metadata": {
    "id": "gEHPBYTxH4Kr"
   },
   "source": [
    "Podemos ver los coeficientes con"
   ]
  },
  {
   "cell_type": "code",
   "execution_count": 207,
   "metadata": {
    "id": "dk66rut6H2QO"
   },
   "outputs": [
    {
     "data": {
      "text/plain": [
       "array([[   3.07455312,  -33.29841561,  231.85595838, -584.70043884,\n",
       "         604.71681952, -218.60955569]])"
      ]
     },
     "execution_count": 207,
     "metadata": {},
     "output_type": "execute_result"
    }
   ],
   "source": [
    "modelo['regressor'].coef_"
   ]
  },
  {
   "cell_type": "code",
   "execution_count": 213,
   "metadata": {},
   "outputs": [
    {
     "data": {
      "text/plain": [
       "PolynomialFeatures(degree=5)"
      ]
     },
     "execution_count": 213,
     "metadata": {},
     "output_type": "execute_result"
    }
   ],
   "source": [
    "modelo['poly']."
   ]
  },
  {
   "cell_type": "markdown",
   "metadata": {
    "id": "70fJJag4H7ix"
   },
   "source": [
    "Y verificar que no hay intercept"
   ]
  },
  {
   "cell_type": "code",
   "execution_count": 208,
   "metadata": {
    "id": "RkRII3KaH-Xd"
   },
   "outputs": [
    {
     "data": {
      "text/plain": [
       "0.0"
      ]
     },
     "execution_count": 208,
     "metadata": {},
     "output_type": "execute_result"
    }
   ],
   "source": [
    "modelo['regressor'].intercept_"
   ]
  },
  {
   "cell_type": "code",
   "execution_count": 228,
   "metadata": {},
   "outputs": [
    {
     "data": {
      "text/plain": [
       "array([1.85999881, 0.36019965, 0.        ])"
      ]
     },
     "execution_count": 228,
     "metadata": {},
     "output_type": "execute_result"
    }
   ],
   "source": [
    "np.append(deg_prueba[1]['coef'],deg_prueba[1]['int'])"
   ]
  },
  {
   "cell_type": "markdown",
   "metadata": {
    "id": "4_slX_iOING2"
   },
   "source": [
    "## Ejercicios:"
   ]
  },
  {
   "cell_type": "markdown",
   "metadata": {
    "id": "LLKYtHZxIOIM"
   },
   "source": [
    "1.   Utilicen este Pipeline para loopear sobre grados, con que se encuentran?\n",
    "2.   Utilicen las funciones de base mas adecuadas: [1,x,sin(6x)]. Que encuentra?"
   ]
  },
  {
   "cell_type": "code",
   "execution_count": 245,
   "metadata": {
    "id": "PhUaK_z5H6YH"
   },
   "outputs": [
    {
     "data": {
      "image/png": "[encoded data removed]",
      "text/plain": [
       "<Figure size 1440x576 with 6 Axes>"
      ]
     },
     "metadata": {
      "needs_background": "light"
     },
     "output_type": "display_data"
    }
   ],
   "source": [
    "def y_ML(x,wML, deg ):\n",
    "  return [np.sum([wML[i]*xi**i for i in range(deg)]) for xi in x]\n",
    "\n",
    "deg_prueba = {}\n",
    "for degree in range(6):\n",
    "    modelo=Pipeline([['poly',PolynomialFeatures(degree=degree,include_bias=True)],['regressor',LinearRegression(fit_intercept=False)]])\n",
    "    modelo.fit(x_train, t_train)\n",
    "    deg_prueba.update({\n",
    "        degree:\n",
    "        {\n",
    "            'coef': modelo['regressor'].coef_,\n",
    "            'int' : modelo['regressor'].intercept_,\n",
    "        \n",
    "        }\n",
    "    }\n",
    "    )\n",
    "deg_prueba\n",
    "fig = plt.figure(figsize = (20,8))\n",
    "for k,v in deg_prueba.items():\n",
    "    ax = plt.subplot(2, 3, k + 1)\n",
    "    ax.scatter(x_train,t_train, c='red', label='train')\n",
    "    ax.plot(xvals,y_true(xvals),color='black',label='Funcion verdadera')\n",
    "    ax.plot(xvals,y_ML(xvals,np.append(deg_prueba[k]['coef'],deg_prueba[k]['int']).T,k),color='black',linestyle='dotted',label='Maxima verosimilitud')\n",
    "    ax.legend()\n",
    "    ax.set_title(rf'$x \\ \\sim x^{k:d}$') \n",
    "    ax.set_xlabel('x')\n",
    "    ax.set_ylabel('t')\n",
    "plt.tight_layout()\n",
    "plt.show()\n"
   ]
  }
 ],
 "metadata": {
  "colab": {
   "name": "04p_Modelos_Lineales_Incompleto.ipynb",
   "provenance": []
  },
  "kernelspec": {
   "display_name": "Python 3",
   "language": "python",
   "name": "python3"
  },
  "language_info": {
   "codemirror_mode": {
    "name": "ipython",
    "version": 3
   },
   "file_extension": ".py",
   "mimetype": "text/x-python",
   "name": "python",
   "nbconvert_exporter": "python",
   "pygments_lexer": "ipython3",
   "version": "3.8.8"
  }
 },
 "nbformat": 4,
 "nbformat_minor": 4
}
